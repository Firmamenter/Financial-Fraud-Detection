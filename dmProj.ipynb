{
 "cells": [
  {
   "cell_type": "markdown",
   "metadata": {},
   "source": [
    "# Data Mining Project"
   ]
  },
  {
   "cell_type": "code",
   "execution_count": 1,
   "metadata": {
    "collapsed": true
   },
   "outputs": [],
   "source": [
    "import numpy as np\n",
    "import pandas as pd\n",
    "import datetime as dt \n",
    "import matplotlib.pyplot as plt\n",
    "from sklearn.metrics import accuracy_score\n",
    "from sklearn.model_selection import cross_val_score\n",
    "from sklearn.model_selection import train_test_split\n",
    "\n",
    "%matplotlib inline"
   ]
  },
  {
   "cell_type": "code",
   "execution_count": 2,
   "metadata": {},
   "outputs": [
    {
     "name": "stdout",
     "output_type": "stream",
     "text": [
      "   step      type    amount     nameOrig  oldBalanceOrig  newBalanceOrig  \\\n",
      "0     1   PAYMENT   9839.64  C1231006815        170136.0       160296.36   \n",
      "1     1   PAYMENT   1864.28  C1666544295         21249.0        19384.72   \n",
      "2     1  TRANSFER    181.00  C1305486145           181.0            0.00   \n",
      "3     1  CASH_OUT    181.00   C840083671           181.0            0.00   \n",
      "4     1   PAYMENT  11668.14  C2048537720         41554.0        29885.86   \n",
      "\n",
      "      nameDest  oldBalanceDest  newBalanceDest  isFraud  isFlaggedFraud  \n",
      "0  M1979787155             0.0             0.0        0               0  \n",
      "1  M2044282225             0.0             0.0        0               0  \n",
      "2   C553264065             0.0             0.0        1               0  \n",
      "3    C38997010         21182.0             0.0        1               0  \n",
      "4  M1230701703             0.0             0.0        0               0  \n"
     ]
    }
   ],
   "source": [
    "# Load dataset\n",
    "df = pd.read_csv(\"PS_20174392719_1491204439457_log.csv\")\n",
    "df = df.rename(columns={'oldbalanceOrg':'oldBalanceOrig', 'newbalanceOrig':'newBalanceOrig', \\\n",
    "                        'oldbalanceDest':'oldBalanceDest', 'newbalanceDest':'newBalanceDest'})\n",
    "\n",
    "print(df.head())"
   ]
  },
  {
   "cell_type": "markdown",
   "metadata": {},
   "source": [
    "## Classification using only numerical features before PCA"
   ]
  },
  {
   "cell_type": "code",
   "execution_count": 3,
   "metadata": {
    "collapsed": true
   },
   "outputs": [],
   "source": [
    "# First, delete some trivial features\n",
    "del df['type']\n",
    "del df['nameOrig']\n",
    "del df['nameDest']\n",
    "del df['isFlaggedFraud']\n",
    "\n",
    "# Assign labels and features for training\n",
    "X = df[['step','amount','oldBalanceOrig','newBalanceOrig','oldBalanceDest','newBalanceDest']]\n",
    "y = df['isFraud']\n",
    "\n",
    "# Split dataset to generate training set and test set\n",
    "X_train, X_test, y_train, y_test = train_test_split(X, y, test_size=0.3, random_state=0)"
   ]
  },
  {
   "cell_type": "code",
   "execution_count": 59,
   "metadata": {},
   "outputs": [
    {
     "name": "stdout",
     "output_type": "stream",
     "text": [
      "Cross-validation accuracy: 0.991891929939\n",
      "Cross-validation running time 0:00:17.978323\n"
     ]
    }
   ],
   "source": [
    "# Gaussian Naive Bayes classifier \n",
    "from sklearn.naive_bayes import GaussianNB\n",
    "\n",
    "def GNB_CV(X, y, cv_num): \n",
    "    start = dt.datetime.now() \n",
    "    clf = GaussianNB()\n",
    "    score = cross_val_score(clf, X, y, cv=cv_num)\n",
    "    print (\"Cross-validation accuracy:\", np.mean(score))\n",
    "    print (\"Cross-validation running time\", dt.datetime.now()-start)\n",
    "    \n",
    "def GNB_Train(X_train, y_train, X_test, y_test):\n",
    "    start = dt.datetime.now() \n",
    "    clf = GaussianNB()\n",
    "    y_pred = clf.fit(X_train, y_train).predict(X_train)\n",
    "    print (\"Training accuracy:\", accuracy_score(y_train, y_pred))\n",
    "    y_pred = clf.fit(X_train, y_train).predict(X_test)\n",
    "    print (\"Testing accuracy:\", accuracy_score(y_test, y_pred))\n",
    "    print (\"Total running time\", dt.datetime.now()-start)\n",
    "    \n",
    "# GNB_CV(X_train, y_train, 20)\n",
    "# GNB_Train(X_train, y_train, X_test, y_test)"
   ]
  },
  {
   "cell_type": "code",
   "execution_count": 30,
   "metadata": {
    "collapsed": true
   },
   "outputs": [],
   "source": [
    "# Random Forest \n",
    "from sklearn.ensemble import RandomForestClassifier\n",
    "\n",
    "def RFC_CV(X, y, cv_num): \n",
    "    start = dt.datetime.now() \n",
    "    clf = RandomForestClassifier(n_estimators=10, max_depth=2, random_state=0)\n",
    "    score = cross_val_score(clf, X, y, cv=cv_num)\n",
    "    print (\"Cross-validation accuracy:\", np.mean(score))\n",
    "    print (\"Cross-validation running time\", dt.datetime.now()-start)\n",
    "    \n",
    "def RFC_Train(X_train, y_train, X_test, y_test):\n",
    "    start = dt.datetime.now() \n",
    "    clf = RandomForestClassifier(n_estimators=10, max_depth=2, random_state=0)\n",
    "    y_pred = clf.fit(X_train, y_train).predict(X_train)\n",
    "    print (\"Training accuracy:\", accuracy_score(y_train, y_pred))\n",
    "    y_pred = clf.fit(X_train, y_train).predict(X_test)\n",
    "    print (\"Testing accuracy:\", accuracy_score(y_test, y_pred))\n",
    "    print (\"Total running time\", dt.datetime.now()-start)\n",
    "    \n",
    "# RFC_CV(X_train, y_train, 20)\n",
    "# RFC_Train(X_train, y_train, X_test, y_test)"
   ]
  },
  {
   "cell_type": "code",
   "execution_count": 31,
   "metadata": {
    "collapsed": true
   },
   "outputs": [],
   "source": [
    "# LDA \n",
    "from sklearn.discriminant_analysis import LinearDiscriminantAnalysis as LDA\n",
    "\n",
    "def LDA_CV(X, y, cv_num): \n",
    "    start = dt.datetime.now() \n",
    "    clf = LDA()\n",
    "    score = cross_val_score(clf, X, y, cv=cv_num)\n",
    "    print (\"Cross-validation accuracy:\", np.mean(score))\n",
    "    print (\"Cross-validation running time\", dt.datetime.now()-start)\n",
    "    \n",
    "def LDA_Train(X_train, y_train, X_test, y_test):\n",
    "    start = dt.datetime.now() \n",
    "    clf = LDA()\n",
    "    y_pred = clf.fit(X_train, y_train).predict(X_train)\n",
    "    print (\"Training accuracy:\", accuracy_score(y_train, y_pred))\n",
    "    y_pred = clf.fit(X_train, y_train).predict(X_test)\n",
    "    print (\"Testing accuracy:\", accuracy_score(y_test, y_pred))\n",
    "    print (\"Total running time\", dt.datetime.now()-start)\n",
    "    \n",
    "# LDA_CV(X_train, y_train, 20)\n",
    "# LDA_Train(X_train, y_train, X_test, y_test)"
   ]
  },
  {
   "cell_type": "code",
   "execution_count": 32,
   "metadata": {
    "collapsed": true
   },
   "outputs": [],
   "source": [
    "# QDA \n",
    "from sklearn.discriminant_analysis import QuadraticDiscriminantAnalysis as QDA\n",
    "\n",
    "def QDA_CV(X, y, cv_num): \n",
    "    start = dt.datetime.now() \n",
    "    clf = QDA()\n",
    "    score = cross_val_score(clf, X, y, cv=cv_num)\n",
    "    print (\"Cross-validation accuracy:\", np.mean(score))\n",
    "    print (\"Cross-validation running time\", dt.datetime.now()-start)\n",
    "    \n",
    "def QDA_Train(X_train, y_train, X_test, y_test):\n",
    "    start = dt.datetime.now() \n",
    "    clf = QDA()\n",
    "    y_pred = clf.fit(X_train, y_train).predict(X_train)\n",
    "    print (\"Training accuracy:\", accuracy_score(y_train, y_pred))\n",
    "    y_pred = clf.fit(X_train, y_train).predict(X_test)\n",
    "    print (\"Testing accuracy:\", accuracy_score(y_test, y_pred))\n",
    "    print (\"Total running time\", dt.datetime.now()-start)\n",
    "    \n",
    "# QDA_CV(X_train, y_train, 20)\n",
    "# QDA_Train(X_train, y_train, X_test, y_test)"
   ]
  },
  {
   "cell_type": "code",
   "execution_count": 33,
   "metadata": {
    "collapsed": true
   },
   "outputs": [],
   "source": [
    "# Logistic Regression \n",
    "from sklearn import linear_model\n",
    "\n",
    "def LR_CV(X, y, cv_num): \n",
    "    start = dt.datetime.now() \n",
    "    clf = linear_model.LogisticRegression()\n",
    "    score = cross_val_score(clf, X, y, cv=cv_num)\n",
    "    print (\"Cross-validation accuracy:\", np.mean(score))\n",
    "    print (\"Cross-validation running time\", dt.datetime.now()-start)\n",
    "    \n",
    "def LR_Train(X_train, y_train, X_test, y_test):\n",
    "    start = dt.datetime.now() \n",
    "    clf = linear_model.LogisticRegression()\n",
    "    y_pred = clf.fit(X_train, y_train).predict(X_train)\n",
    "    print (\"Training accuracy:\", accuracy_score(y_train, y_pred))\n",
    "    y_pred = clf.fit(X_train, y_train).predict(X_test)\n",
    "    print (\"Testing accuracy:\", accuracy_score(y_test, y_pred))\n",
    "    print (\"Total running time\", dt.datetime.now()-start)\n",
    "    \n",
    "# LR_CV(X_train, y_train, 20)\n",
    "# LR_Train(X_train, y_train, X_test, y_test)"
   ]
  },
  {
   "cell_type": "markdown",
   "metadata": {
    "collapsed": true
   },
   "source": [
    "## PCA"
   ]
  },
  {
   "cell_type": "code",
   "execution_count": 9,
   "metadata": {},
   "outputs": [
    {
     "name": "stdout",
     "output_type": "stream",
     "text": [
      "[  2.57410330e+19   9.72132124e+18   5.47908980e+17   4.70412794e+16\n",
      "   1.24984577e+16   6.23348936e-11]\n",
      "(6362620, 6)\n",
      "[[  1.29329894e-05   1.68109490e-05  -5.77707934e-06  -7.05431964e-06\n",
      "    3.42057576e-05   9.93653791e-01]\n",
      " [  1.59467986e-06   2.01499887e-06  -8.85847052e-07  -1.58775356e-06\n",
      "    6.12104281e-06   5.81592185e-02]\n",
      " [  8.24467490e-09  -4.88421623e-09  -5.00696790e-08  -1.96296326e-07\n",
      "    5.32533000e-07  -7.35454883e-02]\n",
      " ..., \n",
      " [ -3.84956958e-05   2.20792127e-05  -3.80234268e-03  -1.49393855e-03\n",
      "    1.76216074e-02   1.15008349e-05]\n",
      " [  3.86751584e-05  -2.26039220e-05  -2.36069108e-04  -9.26436856e-04\n",
      "    2.50143477e-03  -7.40969740e-06]\n",
      " [ -6.25802069e-04   3.70247656e-04  -2.32744501e-04  -1.02555010e-04\n",
      "    2.43264714e-03   3.35520728e-05]]\n"
     ]
    },
    {
     "data": {
      "image/png": "[encoded data removed]",
      "text/plain": [
       "<matplotlib.figure.Figure at 0x1108bac18>"
      ]
     },
     "metadata": {},
     "output_type": "display_data"
    }
   ],
   "source": [
    "X_ = np.array(X).astype(float)\n",
    "# Subtract sample mean\n",
    "X_ -= np.mean(X_, axis=1)[:, np.newaxis]\n",
    "# Get eigenValues and eigenVectors by using Singular Value Decomposition\n",
    "U, W, _ = np.linalg.svd(X_, full_matrices=False)\n",
    "W = W ** 2 / (X.shape[1] - 1)\n",
    "# Calculate cumulative sum of eigenValues\n",
    "S = np.cumsum(W)\n",
    "R = S / S[-1]\n",
    "# Plot cumulative sum\n",
    "plt.plot(R, 'ro-')\n",
    "# Taking the first Kth eigenVectors to reduce dimensions, where their corresponding eigenValues' cumulative sum\n",
    "# should be smaller than 0.9.\n",
    "n = (R < 0.9).sum()\n",
    "# Data projection to lower dimensions.\n",
    "A = U[:, :n].T.dot(X_)\n",
    "print (W)\n",
    "print (U.shape)\n",
    "print (U)"
   ]
  },
  {
   "cell_type": "code",
   "execution_count": 7,
   "metadata": {},
   "outputs": [
    {
     "name": "stdout",
     "output_type": "stream",
     "text": [
      "              step    amount  oldBalanceOrig  newBalanceOrig  oldBalanceDest  \\\n",
      "PC-1  7.257960e-07  0.046518        0.094488        0.096003        0.672195   \n",
      "PC-2 -5.058581e-07 -0.010545        0.696261        0.704848       -0.079591   \n",
      "PC-3  3.469720e-07  0.721502        0.024412       -0.004594       -0.531547   \n",
      "PC-4 -2.373445e-05 -0.690555        0.038849       -0.026515       -0.508011   \n",
      "PC-5  1.311286e-05  0.017127        0.710061       -0.702316        0.034665   \n",
      "PC-6  1.000000e+00 -0.000017       -0.000008        0.000009       -0.000013   \n",
      "\n",
      "      newBalanceDest  \n",
      "PC-1        0.726530  \n",
      "PC-2       -0.109376  \n",
      "PC-3        0.443030  \n",
      "PC-4        0.512685  \n",
      "PC-5       -0.032711  \n",
      "PC-6        0.000012  \n"
     ]
    }
   ],
   "source": [
    "# Dimension reduction\n",
    "from sklearn.decomposition import PCA \n",
    "# from sklearn import preprocessing\n",
    "# data_scaled = pd.DataFrame()\n",
    "\n",
    "pca = PCA(n_components=6, whiten=False)\n",
    "X_new = pca.fit_transform(X)\n",
    "\n",
    "print (pd.DataFrame(pca.components_, columns=['step','amount','oldBalanceOrig','newBalanceOrig','oldBalanceDest','newBalanceDest'], index=['PC-1', 'PC-2', 'PC-3', 'PC-4', 'PC-5', 'PC-6']))\n",
    "# print (pca.explained_variance_ratio_)\n",
    "\n",
    "# X_train, X_test, y_train, y_test = train_test_split(X_new, y, test_size=0.3, random_state=0)"
   ]
  },
  {
   "cell_type": "code",
   "execution_count": 65,
   "metadata": {},
   "outputs": [
    {
     "name": "stdout",
     "output_type": "stream",
     "text": [
      "(6362620, 6) (6362620,)\n",
      "(6362620, 1) (6362620,)\n",
      "(4453834, 1) (1908786, 1) (4453834,) (1908786,)\n"
     ]
    }
   ],
   "source": [
    "# Show dimension differences\n",
    "print (X.shape, y.shape)\n",
    "print (X_new.shape, y.shape)\n",
    "print (X_train.shape, X_test.shape, y_train.shape, y_test.shape)"
   ]
  },
  {
   "cell_type": "code",
   "execution_count": 66,
   "metadata": {
    "collapsed": true
   },
   "outputs": [],
   "source": [
    "# Gaussian Naive Bayes classifier \n",
    "# GNB_CV(X_train, y_train, 20)\n",
    "# GNB_Train(X_train, y_train, X_test, y_test)"
   ]
  },
  {
   "cell_type": "code",
   "execution_count": 67,
   "metadata": {
    "collapsed": true
   },
   "outputs": [],
   "source": [
    "# Random Forest \n",
    "# RFC_CV(X_train, y_train, 20)\n",
    "# RFC_Train(X_train, y_train, X_test, y_test)"
   ]
  },
  {
   "cell_type": "code",
   "execution_count": 71,
   "metadata": {},
   "outputs": [
    {
     "name": "stdout",
     "output_type": "stream",
     "text": [
      "Training accuracy: 0.99869909835\n",
      "Testing accuracy: 0.998732702356\n",
      "Total running time 0:00:02.426151\n"
     ]
    }
   ],
   "source": [
    "# LDA \n",
    "# LDA_CV(X_train, y_train, 20)\n",
    "# LDA_Train(X_train, y_train, X_test, y_test)"
   ]
  },
  {
   "cell_type": "code",
   "execution_count": 75,
   "metadata": {},
   "outputs": [
    {
     "name": "stdout",
     "output_type": "stream",
     "text": [
      "Training accuracy: 0.997288403654\n",
      "Testing accuracy: 0.997279946521\n",
      "Total running time 0:00:01.887205\n"
     ]
    }
   ],
   "source": [
    "# QDA \n",
    "# QDA_CV(X_train, y_train, 20)\n",
    "# QDA_Train(X_train, y_train, X_test, y_test)"
   ]
  },
  {
   "cell_type": "code",
   "execution_count": 79,
   "metadata": {},
   "outputs": [
    {
     "name": "stdout",
     "output_type": "stream",
     "text": [
      "Training accuracy: 0.99869909835\n",
      "Testing accuracy: 0.998732702356\n",
      "Total running time 0:00:42.173594\n"
     ]
    }
   ],
   "source": [
    "# Logistic Regression \n",
    "# LR_CV(X_train, y_train, 10)\n",
    "LR_Train(X_train, y_train, X_test, y_test)"
   ]
  }
 ],
 "metadata": {
  "kernelspec": {
   "display_name": "Python [conda root]",
   "language": "python",
   "name": "conda-root-py"
  },
  "language_info": {
   "codemirror_mode": {
    "name": "ipython",
    "version": 3
   },
   "file_extension": ".py",
   "mimetype": "text/x-python",
   "name": "python",
   "nbconvert_exporter": "python",
   "pygments_lexer": "ipython3",
   "version": "3.5.4"
  }
 },
 "nbformat": 4,
 "nbformat_minor": 2
}
